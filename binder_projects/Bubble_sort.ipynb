{
 "cells": [
  {
   "cell_type": "code",
   "execution_count": 30,
   "id": "15308698-9ffd-4515-9f5a-7039ba7a7ba1",
   "metadata": {},
   "outputs": [],
   "source": [
    "#my_arr =[7,5,0,2,4]\n",
    "my_arr =[5,1,4,2,8]"
   ]
  },
  {
   "cell_type": "code",
   "execution_count": 24,
   "id": "51d62c6c-a059-4e70-af8b-a07f96a9cd8c",
   "metadata": {},
   "outputs": [
    {
     "name": "stdout",
     "output_type": "stream",
     "text": [
      "i is 0 \n",
      "\n",
      "j is 0 \n",
      "\n",
      "j is 1 \n",
      "\n",
      "j is 2 \n",
      "\n",
      "j is 3 \n",
      "\n",
      "array is [1, 2, 4, 5, 8] \n",
      "i is 1 \n",
      "\n",
      "j is 0 \n",
      "\n",
      "j is 1 \n",
      "\n",
      "j is 2 \n",
      "\n",
      "array is [1, 2, 4, 5, 8] \n",
      "i is 2 \n",
      "\n",
      "j is 0 \n",
      "\n",
      "j is 1 \n",
      "\n",
      "array is [1, 2, 4, 5, 8] \n",
      "i is 3 \n",
      "\n",
      "j is 0 \n",
      "\n",
      "array is [1, 2, 4, 5, 8] \n",
      "i is 4 \n",
      "\n",
      "array is [1, 2, 4, 5, 8] \n"
     ]
    }
   ],
   "source": [
    "#belowt can be optimized by stopping the algorithm if inner loop didn’t cause any swap\n",
    "for i in range(0,len(my_arr)):\n",
    "    print(\"i is %s \\n\" % i)\n",
    "    for j in range(0, len(my_arr)-i-1):\n",
    "        print(\"j is %s \\n\" % j)\n",
    "        if my_arr[j] > my_arr[j+1]:\n",
    "            print(\"two numbers are %s , %s\" % (my_arr[j],my_arr[j+1]))\n",
    "            #do the swapping\n",
    "            temp = my_arr[j+1]\n",
    "            my_arr[j+1] =my_arr[j]\n",
    "            my_arr[j]=temp\n",
    "    print(\"array is %s \"% my_arr)"
   ]
  },
  {
   "cell_type": "code",
   "execution_count": 31,
   "id": "ae974189-d068-4054-a78b-6cd2ed39742b",
   "metadata": {},
   "outputs": [
    {
     "name": "stdout",
     "output_type": "stream",
     "text": [
      "i is 0 \n",
      "\n",
      "j is 0 \n",
      "\n",
      "two numbers are 5 , 1\n",
      "j is 1 \n",
      "\n",
      "two numbers are 5 , 4\n",
      "j is 2 \n",
      "\n",
      "two numbers are 5 , 2\n",
      "j is 3 \n",
      "\n",
      "array is [1, 4, 2, 5, 8] \n",
      "i is 1 \n",
      "\n",
      "j is 0 \n",
      "\n",
      "j is 1 \n",
      "\n",
      "two numbers are 4 , 2\n",
      "j is 2 \n",
      "\n",
      "array is [1, 2, 4, 5, 8] \n",
      "i is 2 \n",
      "\n",
      "j is 0 \n",
      "\n",
      "j is 1 \n",
      "\n",
      "array is [1, 2, 4, 5, 8] \n",
      "i is 3 \n",
      "\n",
      "j is 0 \n",
      "\n",
      "array is [1, 2, 4, 5, 8] \n",
      "i is 4 \n",
      "\n",
      "array is [1, 2, 4, 5, 8] \n"
     ]
    }
   ],
   "source": [
    "#below is optimized by stopping the algorithm if inner loop didn’t cause any swap\n",
    "swap_flag = True\n",
    "for i in range(0,len(my_arr)):\n",
    "    print(\"i is %s \\n\" % i)\n",
    "    for j in range(0, len(my_arr)-i-1):\n",
    "        print(\"j is %s \\n\" % j)\n",
    "        if my_arr[j] > my_arr[j+1]:\n",
    "            swap_flag = False\n",
    "            print(\"two numbers are %s , %s\" % (my_arr[j],my_arr[j+1]))\n",
    "            #do the swapping\n",
    "            temp = my_arr[j+1]\n",
    "            my_arr[j+1] =my_arr[j]\n",
    "            my_arr[j]=temp\n",
    "    print(\"array is %s \"% my_arr)\n",
    "    if swap_flag:\n",
    "        break\n",
    "    "
   ]
  },
  {
   "cell_type": "code",
   "execution_count": null,
   "id": "56695d4e-ad60-4487-abb7-f3ff4772221c",
   "metadata": {},
   "outputs": [],
   "source": []
  }
 ],
 "metadata": {
  "kernelspec": {
   "display_name": "Python 3",
   "language": "python",
   "name": "python3"
  },
  "language_info": {
   "codemirror_mode": {
    "name": "ipython",
    "version": 3
   },
   "file_extension": ".py",
   "mimetype": "text/x-python",
   "name": "python",
   "nbconvert_exporter": "python",
   "pygments_lexer": "ipython3",
   "version": "3.7.8"
  }
 },
 "nbformat": 4,
 "nbformat_minor": 5
}
